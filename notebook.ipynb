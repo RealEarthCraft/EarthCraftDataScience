{
 "cells": [
  {
   "cell_type": "code",
   "execution_count": 23,
   "outputs": [
    {
     "data": {
      "text/plain": "<Figure size 432x288 with 1 Axes>",
      "image/png": "[encoded data removed]"
     },
     "metadata": {
      "needs_background": "light"
     },
     "output_type": "display_data"
    }
   ],
   "source": [
    "import json\n",
    "import random\n",
    "\n",
    "import numpy as np\n",
    "import mahotas\n",
    "import math\n",
    "import time\n",
    "import geography as geo\n",
    "from pprint import pprint\n",
    "\n",
    "from matplotlib import pyplot as plt\n",
    "import matplotlib.path as mplPath\n",
    "\n",
    "cities = json.loads(open(r\"cities.json\", encoding=\"utf8\").read())\n",
    "populations = json.loads(open(r\"populations.json\", encoding=\"utf8\").read())\n",
    "\n",
    "rankingDict = {}\n",
    "for city in cities:\n",
    "    population = populations[city]\n",
    "    techCompanies = cities[city]\n",
    "    techCompaniesPerCapita = round(population / techCompanies)\n",
    "    rankingDict[city] = techCompaniesPerCapita\n",
    "\n",
    "fig = plt.figure()\n",
    "ax = fig.add_axes([1, 1, 1, 1])\n",
    "citiesList = list(rankingDict.keys())\n",
    "rankings = []\n",
    "for city in citiesList:\n",
    "    rankings.append(rankingDict[city])\n",
    "ax.bar(citiesList, rankings)\n",
    "plt.show()"
   ],
   "metadata": {
    "collapsed": false,
    "pycharm": {
     "name": "#%%\n"
    }
   }
  },
  {
   "cell_type": "code",
   "execution_count": null,
   "outputs": [],
   "source": [],
   "metadata": {
    "collapsed": false,
    "pycharm": {
     "name": "#%%\n"
    }
   }
  }
 ],
 "metadata": {
  "kernelspec": {
   "display_name": "Python 3",
   "language": "python",
   "name": "python3"
  },
  "language_info": {
   "codemirror_mode": {
    "name": "ipython",
    "version": 2
   },
   "file_extension": ".py",
   "mimetype": "text/x-python",
   "name": "python",
   "nbconvert_exporter": "python",
   "pygments_lexer": "ipython2",
   "version": "2.7.6"
  }
 },
 "nbformat": 4,
 "nbformat_minor": 0
}